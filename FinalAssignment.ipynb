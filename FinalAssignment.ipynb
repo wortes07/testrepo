{
 "cells": [
  {
   "cell_type": "markdown",
   "id": "b82e4ba6-0b88-4dd8-8f1f-e7c37089bd55",
   "metadata": {},
   "source": [
    "# My Jupyter Notebook on IBM Watson Studio"
   ]
  },
  {
   "cell_type": "markdown",
   "id": "f5d7e8c4-bcf6-4501-99c2-5fcc75e81d02",
   "metadata": {},
   "source": [
    "**Sadaf Farooqui**\n",
    "\n",
    "Data Scientist"
   ]
  },
  {
   "cell_type": "markdown",
   "id": "1981af46-c5a5-4f18-a5db-7f8638443db1",
   "metadata": {},
   "source": [
    "*I am interested in data science because I'm a curious person who enjoys solving problems and analysing stuff. So, it's only natural I decided to pursue Data Science. Furthermore, Data Science is a pretty exciting field to work in.*"
   ]
  },
  {
   "cell_type": "markdown",
   "id": "4dd588a0-fffa-475b-9097-e14c9c3d3b66",
   "metadata": {},
   "source": [
    "### The following code generates a list of numbers"
   ]
  },
  {
   "cell_type": "code",
   "execution_count": 8,
   "id": "10fca7ef-5fd6-4de9-8d8c-42e171c7ac82",
   "metadata": {},
   "outputs": [
    {
     "name": "stdout",
     "output_type": "stream",
     "text": [
      "1\n",
      "2\n",
      "3\n",
      "4\n",
      "5\n",
      "6\n",
      "7\n",
      "8\n"
     ]
    }
   ],
   "source": [
    "for value in range(1,9):\n",
    "    print(value)\n"
   ]
  },
  {
   "cell_type": "markdown",
   "id": "0292ff82-41ba-40ff-9c01-8aae7ba310b7",
   "metadata": {},
   "source": [
    "<h2>Python</h2>\n",
    "<h3>History of Python</h3>\n",
    "<p>Python was conceived in the late 1980s by <a href=\"https://en.wikipedia.org/wiki/Guido_van_Rossum\"> <strong>Guido van Rossum</strong></a> at <em>Centrum Wiskunde & Informatica (CWI)</em> in the Netherlands as a successor to the <em>ABC</em> programming language, which was inspired by SETL, capable of exception handling and interfacing with the <em>Amoeba</em> operating system.</p>\n",
    "<hr>\n",
    "<h3>Design Philosphy and Features</h3>\n",
    "<h4>Its core philosophy is summarized in the document <em>The Zen of Python</em> </h4>\n",
    "\n",
    "<ul>\n",
    "    <li>Beautiful is better than ugly.</li>\n",
    "    <li>Explicit is better than implicit.</li>\n",
    "    <li>Simple is better than complex.</li>\n",
    "    <li>Complex is better than complicated.</li>\n",
    "    <li>Readability counts.</li>\n",
    "</ul>\n",
    "\n",
    "<h3>About Guido Van Rossum</h3>\n",
    "<br>\n",
    "<img src=\"https://upload.wikimedia.org/wikipedia/commons/c/c6/Guido_van_Rossum.jpg\" alt=\"image of Guido Van Rossum\" height= auto width = auto>\n",
    "\n",
    "<p><strong>Guido van Rossum</strong> is a Dutch programmer best known as the creator of the Python programming language, for which he was the \"benevolent dictator for life\" until he stepped down from the position in July 2018. <p>\n",
    "\n",
    "\n",
    "    \n",
    "   \n",
    "    \n",
    "\n",
    " \n"
   ]
  },
  {
   "cell_type": "code",
   "execution_count": null,
   "id": "2df8c620-d7e8-4fd0-b0ee-333f4a18a1b8",
   "metadata": {},
   "outputs": [],
   "source": []
  }
 ],
 "metadata": {
  "kernelspec": {
   "display_name": "Python",
   "language": "python",
   "name": "conda-env-python-py"
  },
  "language_info": {
   "codemirror_mode": {
    "name": "ipython",
    "version": 3
   },
   "file_extension": ".py",
   "mimetype": "text/x-python",
   "name": "python",
   "nbconvert_exporter": "python",
   "pygments_lexer": "ipython3",
   "version": "3.7.12"
  }
 },
 "nbformat": 4,
 "nbformat_minor": 5
}
